{
 "cells": [
  {
   "cell_type": "markdown",
   "metadata": {},
   "source": [
    "# Datathon Team 09"
   ]
  },
  {
   "cell_type": "code",
   "execution_count": 1,
   "metadata": {},
   "outputs": [],
   "source": [
    "# Load packages\n",
    "import os\n",
    "import pandas as pd\n",
    "import numpy as np\n",
    "import pandas_profiling\n",
    "import datetime\n",
    "import matplotlib.dates as mdates\n",
    "import requests\n",
    "\n",
    "#Use of maps:\n",
    "#import folium\n",
    "\n",
    "# This line is needed to display plots inline in Jupyter Notebook\n",
    "%matplotlib inline\n",
    "\n",
    "# Required for basic python plotting functionality\n",
    "import matplotlib.pyplot as plt\n",
    "\n",
    "# Required for formatting dates later in the case\n",
    "import datetime\n",
    "import matplotlib.dates as mdates\n",
    "\n",
    "# Required to display image inline\n",
    "from IPython.display import Image\n",
    "\n",
    "# Advanced plotting functionality with seaborn\n",
    "import seaborn as sns\n",
    "sns.set(style=\"whitegrid\") # can set style depending on how you'd like it to look"
   ]
  },
  {
   "cell_type": "code",
   "execution_count": 2,
   "metadata": {},
   "outputs": [],
   "source": [
    "# Load the data into python\n",
    "demographics_file = os.path.join(os.getcwd(),'Data/demographics.csv')        \n",
    "geographic_file = os.path.join(os.getcwd(),'Data/geographic.csv')\n",
    "green_trips_file = os.path.join(os.getcwd(),'Data/green_trips_new_2.csv')\n",
    "mta_trips_file = os.path.join(os.getcwd(),'Data/mta_trips.csv')        \n",
    "uber_trips_2014_file = os.path.join(os.getcwd(),'Data/uber_trips_2014.csv')\n",
    "uber_trips_2015_file = os.path.join(os.getcwd(),'Data/uber_trips_2015.csv')\n",
    "weather_file = os.path.join(os.getcwd(),'Data/weather.csv')\n",
    "yellow_trips_new_file = os.path.join(os.getcwd(),'Data/yellow_trips_new.csv')\n",
    "zones_file = os.path.join(os.getcwd(),'Data/zones.csv')"
   ]
  },
  {
   "cell_type": "code",
   "execution_count": 3,
   "metadata": {},
   "outputs": [
    {
     "name": "stdout",
     "output_type": "stream",
     "text": [
      "D:\\Users\\german.ramirez2\\repos\\DS4A_Datathon\\Data/zones.csv\n"
     ]
    }
   ],
   "source": [
    "print(zones_file)"
   ]
  },
  {
   "cell_type": "code",
   "execution_count": 4,
   "metadata": {},
   "outputs": [
    {
     "name": "stderr",
     "output_type": "stream",
     "text": [
      "D:\\Users\\german.ramirez2\\AppData\\Local\\conda\\conda\\envs\\week8\\lib\\site-packages\\IPython\\core\\interactiveshell.py:3058: DtypeWarning: Columns (1) have mixed types. Specify dtype option on import or set low_memory=False.\n",
      "  interactivity=interactivity, compiler=compiler, result=result)\n"
     ]
    }
   ],
   "source": [
    "# Generate Data frames\n",
    "demographics_df = pd.read_csv(demographics_file)\n",
    "geographic_df = pd.read_csv(geographic_file)\n",
    "green_trips_df = pd.read_csv(green_trips_file)\n",
    "mta_trips_df = pd.read_csv(mta_trips_file)\n",
    "uber_trips_2014_df = pd.read_csv(uber_trips_2014_file)\n",
    "uber_trips_2015_df = pd.read_csv(uber_trips_2015_file)\n",
    "weather_df = pd.read_csv(weather_file)\n",
    "yellow_trips_df = pd.read_csv(yellow_trips_new_file)\n",
    "zones_df = pd.read_csv(zones_file)"
   ]
  },
  {
   "cell_type": "code",
   "execution_count": 5,
   "metadata": {},
   "outputs": [],
   "source": [
    "def generate_profiles():\n",
    "\t# Data Profile\n",
    "\tdemographicsProfile = pandas_profiling.ProfileReport(demographics_df)\n",
    "\tdemographicsProfile.to_file(output_file=\"./Profiles/demographicsProfile.html\")\n",
    "\n",
    "\tgeographicProfile = pandas_profiling.ProfileReport(geographic_df)\n",
    "\tgeographicProfile.to_file(output_file=\"./Profiles/geographicProfile.html\")\n",
    "\n",
    "\tgreen_tripsProfile = pandas_profiling.ProfileReport(green_trips_df)\n",
    "\tgreen_tripsProfile.to_file(output_file=\"./Profiles/green_tripsProfile.html\")\n",
    "\n",
    "\tmta_tripsProfile = pandas_profiling.ProfileReport(mta_trips_df)\n",
    "\tmta_tripsProfile.to_file(output_file=\"./Profiles/mta_tripsProfile.html\")\n",
    "\n",
    "\tuber_trips_2014Profile = pandas_profiling.ProfileReport(uber_trips_2014_df)\n",
    "\tuber_trips_2014Profile.to_file(output_file=\"./Profiles/uber_trips_2014Profile.html\")\n",
    "\n",
    "\tuber_trips_2015Profile = pandas_profiling.ProfileReport(uber_trips_2015_df)\n",
    "\tuber_trips_2015Profile.to_file(output_file=\"./Profiles/uber_trips_2015Profile.html\")\n",
    "\n",
    "\tweatherProfile = pandas_profiling.ProfileReport(weather_df)\n",
    "\tweatherProfile.to_file(output_file=\"./Profiles/weatherProfile.html\")\n",
    "\n",
    "\tyellow_tripsProfile = pandas_profiling.ProfileReport(yellow_trips_df)\n",
    "\tyellow_tripsProfile.to_file(output_file=\"./Profiles/yellow_tripsProfile.html\")\n",
    "\n",
    "\tzonesProfile = pandas_profiling.ProfileReport(zones_df)\n",
    "\tzonesProfile.to_file(output_file=\"./Profiles/zonesProfile.html\")"
   ]
  },
  {
   "cell_type": "code",
   "execution_count": 6,
   "metadata": {},
   "outputs": [],
   "source": [
    "# generate_profiles()\n",
    "from IPython.display import IFrame\n"
   ]
  },
  {
   "cell_type": "code",
   "execution_count": 7,
   "metadata": {},
   "outputs": [
    {
     "data": {
      "text/html": [
       "\n",
       "        <iframe\n",
       "            width=\"1200\"\n",
       "            height=\"400\"\n",
       "            src=\"./Profiles/yellow_tripsProfile.html\"\n",
       "            frameborder=\"0\"\n",
       "            allowfullscreen\n",
       "        ></iframe>\n",
       "        "
      ],
      "text/plain": [
       "<IPython.lib.display.IFrame at 0x2709d537208>"
      ]
     },
     "execution_count": 7,
     "metadata": {},
     "output_type": "execute_result"
    }
   ],
   "source": [
    "IFrame(\"./Profiles/yellow_tripsProfile.html\", width=1200, height=400)"
   ]
  },
  {
   "cell_type": "code",
   "execution_count": 8,
   "metadata": {},
   "outputs": [
    {
     "data": {
      "text/html": [
       "\n",
       "        <iframe\n",
       "            width=\"1200\"\n",
       "            height=\"400\"\n",
       "            src=\"./Profiles/zonesProfile_test.html\"\n",
       "            frameborder=\"0\"\n",
       "            allowfullscreen\n",
       "        ></iframe>\n",
       "        "
      ],
      "text/plain": [
       "<IPython.lib.display.IFrame at 0x2709d537198>"
      ]
     },
     "execution_count": 8,
     "metadata": {},
     "output_type": "execute_result"
    }
   ],
   "source": [
    "IFrame(\"./Profiles/zonesProfile_test.html\", width=1200, height=400)"
   ]
  },
  {
   "cell_type": "code",
   "execution_count": 9,
   "metadata": {},
   "outputs": [
    {
     "data": {
      "text/html": [
       "\n",
       "        <iframe\n",
       "            width=\"1200\"\n",
       "            height=\"400\"\n",
       "            src=\"./Profiles/demographicsProfile.html\"\n",
       "            frameborder=\"0\"\n",
       "            allowfullscreen\n",
       "        ></iframe>\n",
       "        "
      ],
      "text/plain": [
       "<IPython.lib.display.IFrame at 0x2710baba940>"
      ]
     },
     "execution_count": 9,
     "metadata": {},
     "output_type": "execute_result"
    }
   ],
   "source": [
    "IFrame(\"./Profiles/demographicsProfile.html\", width=1200, height=400)"
   ]
  },
  {
   "cell_type": "code",
   "execution_count": 10,
   "metadata": {},
   "outputs": [
    {
     "data": {
      "text/html": [
       "\n",
       "        <iframe\n",
       "            width=\"1200\"\n",
       "            height=\"400\"\n",
       "            src=\"./Profiles/geographicProfile.html\"\n",
       "            frameborder=\"0\"\n",
       "            allowfullscreen\n",
       "        ></iframe>\n",
       "        "
      ],
      "text/plain": [
       "<IPython.lib.display.IFrame at 0x2710babab70>"
      ]
     },
     "execution_count": 10,
     "metadata": {},
     "output_type": "execute_result"
    }
   ],
   "source": [
    "IFrame(\"./Profiles/geographicProfile.html\", width=1200, height=400)"
   ]
  },
  {
   "cell_type": "code",
   "execution_count": 11,
   "metadata": {},
   "outputs": [
    {
     "data": {
      "text/html": [
       "\n",
       "        <iframe\n",
       "            width=\"1200\"\n",
       "            height=\"400\"\n",
       "            src=\"./Profiles/green_tripsProfile.html\"\n",
       "            frameborder=\"0\"\n",
       "            allowfullscreen\n",
       "        ></iframe>\n",
       "        "
      ],
      "text/plain": [
       "<IPython.lib.display.IFrame at 0x2710babad68>"
      ]
     },
     "execution_count": 11,
     "metadata": {},
     "output_type": "execute_result"
    }
   ],
   "source": [
    "IFrame(\"./Profiles/green_tripsProfile.html\", width=1200, height=400)"
   ]
  },
  {
   "cell_type": "code",
   "execution_count": 12,
   "metadata": {},
   "outputs": [
    {
     "data": {
      "text/html": [
       "\n",
       "        <iframe\n",
       "            width=\"1200\"\n",
       "            height=\"400\"\n",
       "            src=\"./Profiles/mta_tripsProfile.html\"\n",
       "            frameborder=\"0\"\n",
       "            allowfullscreen\n",
       "        ></iframe>\n",
       "        "
      ],
      "text/plain": [
       "<IPython.lib.display.IFrame at 0x270dafc1dd8>"
      ]
     },
     "execution_count": 12,
     "metadata": {},
     "output_type": "execute_result"
    }
   ],
   "source": [
    "IFrame(\"./Profiles/mta_tripsProfile.html\", width=1200, height=400)"
   ]
  },
  {
   "cell_type": "code",
   "execution_count": 13,
   "metadata": {},
   "outputs": [
    {
     "data": {
      "text/html": [
       "\n",
       "        <iframe\n",
       "            width=\"1200\"\n",
       "            height=\"400\"\n",
       "            src=\"./Profiles/uber_trips_2014Profile.html\"\n",
       "            frameborder=\"0\"\n",
       "            allowfullscreen\n",
       "        ></iframe>\n",
       "        "
      ],
      "text/plain": [
       "<IPython.lib.display.IFrame at 0x270daa13b38>"
      ]
     },
     "execution_count": 13,
     "metadata": {},
     "output_type": "execute_result"
    }
   ],
   "source": [
    "IFrame(\"./Profiles/uber_trips_2014Profile.html\", width=1200, height=400)"
   ]
  },
  {
   "cell_type": "code",
   "execution_count": 14,
   "metadata": {},
   "outputs": [
    {
     "data": {
      "text/html": [
       "\n",
       "        <iframe\n",
       "            width=\"1200\"\n",
       "            height=\"400\"\n",
       "            src=\"./Profiles/uber_trips_2015Profile.html\"\n",
       "            frameborder=\"0\"\n",
       "            allowfullscreen\n",
       "        ></iframe>\n",
       "        "
      ],
      "text/plain": [
       "<IPython.lib.display.IFrame at 0x2714e08d320>"
      ]
     },
     "execution_count": 14,
     "metadata": {},
     "output_type": "execute_result"
    }
   ],
   "source": [
    "IFrame(\"./Profiles/uber_trips_2015Profile.html\", width=1200, height=400)"
   ]
  },
  {
   "cell_type": "code",
   "execution_count": 15,
   "metadata": {},
   "outputs": [
    {
     "data": {
      "text/html": [
       "\n",
       "        <iframe\n",
       "            width=\"1200\"\n",
       "            height=\"400\"\n",
       "            src=\"./Profiles/weatherProfile.html\"\n",
       "            frameborder=\"0\"\n",
       "            allowfullscreen\n",
       "        ></iframe>\n",
       "        "
      ],
      "text/plain": [
       "<IPython.lib.display.IFrame at 0x2714e08d5f8>"
      ]
     },
     "execution_count": 15,
     "metadata": {},
     "output_type": "execute_result"
    }
   ],
   "source": [
    "IFrame(\"./Profiles/weatherProfile.html\", width=1200, height=400)"
   ]
  },
  {
   "cell_type": "code",
   "execution_count": 16,
   "metadata": {},
   "outputs": [
    {
     "data": {
      "text/html": [
       "\n",
       "        <iframe\n",
       "            width=\"1200\"\n",
       "            height=\"400\"\n",
       "            src=\"./Profiles/yellow_tripsProfile.html\"\n",
       "            frameborder=\"0\"\n",
       "            allowfullscreen\n",
       "        ></iframe>\n",
       "        "
      ],
      "text/plain": [
       "<IPython.lib.display.IFrame at 0x2714e08d9b0>"
      ]
     },
     "execution_count": 16,
     "metadata": {},
     "output_type": "execute_result"
    }
   ],
   "source": [
    "IFrame(\"./Profiles/yellow_tripsProfile.html\", width=1200, height=400)"
   ]
  },
  {
   "cell_type": "code",
   "execution_count": 17,
   "metadata": {},
   "outputs": [
    {
     "data": {
      "text/html": [
       "\n",
       "        <iframe\n",
       "            width=\"1200\"\n",
       "            height=\"400\"\n",
       "            src=\"./Profiles/zonesProfile.html\"\n",
       "            frameborder=\"0\"\n",
       "            allowfullscreen\n",
       "        ></iframe>\n",
       "        "
      ],
      "text/plain": [
       "<IPython.lib.display.IFrame at 0x2714e08dd68>"
      ]
     },
     "execution_count": 17,
     "metadata": {},
     "output_type": "execute_result"
    }
   ],
   "source": [
    "IFrame(\"./Profiles/zonesProfile.html\", width=1200, height=400)"
   ]
  },
  {
   "cell_type": "markdown",
   "metadata": {},
   "source": [
    "# Yellow Trips Dataset"
   ]
  },
  {
   "cell_type": "code",
   "execution_count": 18,
   "metadata": {},
   "outputs": [
    {
     "data": {
      "text/html": [
       "<div>\n",
       "<style scoped>\n",
       "    .dataframe tbody tr th:only-of-type {\n",
       "        vertical-align: middle;\n",
       "    }\n",
       "\n",
       "    .dataframe tbody tr th {\n",
       "        vertical-align: top;\n",
       "    }\n",
       "\n",
       "    .dataframe thead th {\n",
       "        text-align: right;\n",
       "    }\n",
       "</style>\n",
       "<table border=\"1\" class=\"dataframe\">\n",
       "  <thead>\n",
       "    <tr style=\"text-align: right;\">\n",
       "      <th></th>\n",
       "      <th>pickup_datetime</th>\n",
       "      <th>dropoff_datetime</th>\n",
       "      <th>pickup_longitude</th>\n",
       "      <th>pickup_latitude</th>\n",
       "      <th>dropoff_longitude</th>\n",
       "      <th>dropoff_latitude</th>\n",
       "      <th>passenger_count</th>\n",
       "      <th>trip_distance</th>\n",
       "      <th>total_amount</th>\n",
       "    </tr>\n",
       "  </thead>\n",
       "  <tbody>\n",
       "    <tr>\n",
       "      <th>0</th>\n",
       "      <td>2014-04-03 18:28:10</td>\n",
       "      <td>2014-04-03 18:54:32</td>\n",
       "      <td>-74.006033</td>\n",
       "      <td>40.706284</td>\n",
       "      <td>-73.918837</td>\n",
       "      <td>40.744946</td>\n",
       "      <td>1</td>\n",
       "      <td>8.70</td>\n",
       "      <td>34.8</td>\n",
       "    </tr>\n",
       "    <tr>\n",
       "      <th>1</th>\n",
       "      <td>2014-04-16 15:42:00</td>\n",
       "      <td>2014-04-16 16:07:00</td>\n",
       "      <td>-73.979558</td>\n",
       "      <td>40.749357</td>\n",
       "      <td>0.000000</td>\n",
       "      <td>0.000000</td>\n",
       "      <td>1</td>\n",
       "      <td>9.37</td>\n",
       "      <td>30.0</td>\n",
       "    </tr>\n",
       "    <tr>\n",
       "      <th>2</th>\n",
       "      <td>2014-04-13 18:04:00</td>\n",
       "      <td>2014-04-13 18:07:00</td>\n",
       "      <td>-73.956453</td>\n",
       "      <td>40.775307</td>\n",
       "      <td>-73.954792</td>\n",
       "      <td>40.784992</td>\n",
       "      <td>1</td>\n",
       "      <td>0.89</td>\n",
       "      <td>6.5</td>\n",
       "    </tr>\n",
       "    <tr>\n",
       "      <th>3</th>\n",
       "      <td>2014-05-21 19:33:00</td>\n",
       "      <td>2014-05-21 19:45:00</td>\n",
       "      <td>-73.987212</td>\n",
       "      <td>40.757850</td>\n",
       "      <td>-73.960198</td>\n",
       "      <td>40.775472</td>\n",
       "      <td>1</td>\n",
       "      <td>2.40</td>\n",
       "      <td>12.5</td>\n",
       "    </tr>\n",
       "    <tr>\n",
       "      <th>4</th>\n",
       "      <td>2014-05-30 16:28:00</td>\n",
       "      <td>2014-05-30 16:51:00</td>\n",
       "      <td>-73.974292</td>\n",
       "      <td>40.755397</td>\n",
       "      <td>-74.011867</td>\n",
       "      <td>40.704222</td>\n",
       "      <td>3</td>\n",
       "      <td>5.58</td>\n",
       "      <td>24.5</td>\n",
       "    </tr>\n",
       "  </tbody>\n",
       "</table>\n",
       "</div>"
      ],
      "text/plain": [
       "       pickup_datetime     dropoff_datetime  pickup_longitude  \\\n",
       "0  2014-04-03 18:28:10  2014-04-03 18:54:32        -74.006033   \n",
       "1  2014-04-16 15:42:00  2014-04-16 16:07:00        -73.979558   \n",
       "2  2014-04-13 18:04:00  2014-04-13 18:07:00        -73.956453   \n",
       "3  2014-05-21 19:33:00  2014-05-21 19:45:00        -73.987212   \n",
       "4  2014-05-30 16:28:00  2014-05-30 16:51:00        -73.974292   \n",
       "\n",
       "   pickup_latitude  dropoff_longitude  dropoff_latitude  passenger_count  \\\n",
       "0        40.706284         -73.918837         40.744946                1   \n",
       "1        40.749357           0.000000          0.000000                1   \n",
       "2        40.775307         -73.954792         40.784992                1   \n",
       "3        40.757850         -73.960198         40.775472                1   \n",
       "4        40.755397         -74.011867         40.704222                3   \n",
       "\n",
       "   trip_distance  total_amount  \n",
       "0           8.70          34.8  \n",
       "1           9.37          30.0  \n",
       "2           0.89           6.5  \n",
       "3           2.40          12.5  \n",
       "4           5.58          24.5  "
      ]
     },
     "execution_count": 18,
     "metadata": {},
     "output_type": "execute_result"
    }
   ],
   "source": [
    "yellow_trips_df.head()"
   ]
  },
  {
   "cell_type": "code",
   "execution_count": 19,
   "metadata": {},
   "outputs": [
    {
     "data": {
      "text/plain": [
       "pickup_datetime       object\n",
       "dropoff_datetime      object\n",
       "pickup_longitude     float64\n",
       "pickup_latitude      float64\n",
       "dropoff_longitude    float64\n",
       "dropoff_latitude     float64\n",
       "passenger_count        int64\n",
       "trip_distance        float64\n",
       "total_amount         float64\n",
       "dtype: object"
      ]
     },
     "execution_count": 19,
     "metadata": {},
     "output_type": "execute_result"
    }
   ],
   "source": [
    "yellow_trips_df.dtypes"
   ]
  },
  {
   "cell_type": "code",
   "execution_count": 20,
   "metadata": {},
   "outputs": [
    {
     "data": {
      "image/png": "[encoded data removed]",
      "text/plain": [
       "<Figure size 1080x216 with 1 Axes>"
      ]
     },
     "metadata": {
      "needs_background": "light"
     },
     "output_type": "display_data"
    }
   ],
   "source": [
    "fig, ax = plt.subplots(figsize=(15,3))\n",
    "yellow_trips_df['pickup_datetime'] = pd.to_datetime(yellow_trips_df['pickup_datetime'])\n",
    "yellow_trips_df['YYYY_MM'] = yellow_trips_df['pickup_datetime'].apply(lambda x: datetime.datetime.strptime(str(x.year) + '-' + str(x.month), \"%Y-%m\"))\n",
    "sns.lineplot(data=yellow_trips_df.groupby('YYYY_MM')['YYYY_MM'].count(), ax=ax)\n",
    "plt.title('Trips by Period')\n",
    "plt.xlabel('Year-Month')\n",
    "plt.ylabel('Trips');"
   ]
  },
  {
   "cell_type": "code",
   "execution_count": 21,
   "metadata": {},
   "outputs": [
    {
     "data": {
      "image/png": "[encoded data removed]",
      "text/plain": [
       "<Figure size 1080x216 with 1 Axes>"
      ]
     },
     "metadata": {
      "needs_background": "light"
     },
     "output_type": "display_data"
    }
   ],
   "source": [
    "fig, ax = plt.subplots(figsize=(15,3))\n",
    "green_trips_df['pickup_datetime'] = pd.to_datetime(green_trips_df['pickup_datetime'])\n",
    "green_trips_df['YYYY_MM'] = green_trips_df['pickup_datetime'].apply(lambda x: datetime.datetime.strptime(str(x.year) + '-' + str(x.month), \"%Y-%m\"))\n",
    "sns.lineplot(data=green_trips_df.groupby('YYYY_MM')['YYYY_MM'].count(), ax=ax)\n",
    "plt.title('Green Trips by Period')\n",
    "plt.xlabel('Year-Month')\n",
    "plt.ylabel('Trips');"
   ]
  },
  {
   "cell_type": "code",
   "execution_count": 22,
   "metadata": {},
   "outputs": [],
   "source": [
    "#mta_trips_df.head()"
   ]
  },
  {
   "cell_type": "code",
   "execution_count": 23,
   "metadata": {},
   "outputs": [
    {
     "data": {
      "image/png": "[encoded data removed]",
      "text/plain": [
       "<Figure size 1080x216 with 1 Axes>"
      ]
     },
     "metadata": {
      "needs_background": "light"
     },
     "output_type": "display_data"
    }
   ],
   "source": [
    "fig, ax = plt.subplots(figsize=(15,3))\n",
    "mta_trips_df['datetime'] = pd.to_datetime(mta_trips_df['datetime'])\n",
    "mta_trips_df['YYYY_MM'] = mta_trips_df['datetime'].apply(lambda x: datetime.datetime.strptime(str(x.year) + '-' + str(x.month), \"%Y-%m\"))\n",
    "sns.lineplot(data=mta_trips_df.groupby('YYYY_MM')['YYYY_MM'].count(), ax=ax)\n",
    "plt.title('Train Trips by Period')\n",
    "plt.xlabel('Year-Month')\n",
    "plt.ylabel('Trips');"
   ]
  },
  {
   "cell_type": "code",
   "execution_count": 24,
   "metadata": {},
   "outputs": [
    {
     "data": {
      "text/html": [
       "<div>\n",
       "<style scoped>\n",
       "    .dataframe tbody tr th:only-of-type {\n",
       "        vertical-align: middle;\n",
       "    }\n",
       "\n",
       "    .dataframe tbody tr th {\n",
       "        vertical-align: top;\n",
       "    }\n",
       "\n",
       "    .dataframe thead th {\n",
       "        text-align: right;\n",
       "    }\n",
       "</style>\n",
       "<table border=\"1\" class=\"dataframe\">\n",
       "  <thead>\n",
       "    <tr style=\"text-align: right;\">\n",
       "      <th></th>\n",
       "      <th>pickup_datetime</th>\n",
       "      <th>pickup_latitude</th>\n",
       "      <th>pickup_longitude</th>\n",
       "      <th>base</th>\n",
       "      <th>YYYY_MM</th>\n",
       "    </tr>\n",
       "  </thead>\n",
       "  <tbody>\n",
       "    <tr>\n",
       "      <th>0</th>\n",
       "      <td>2014-04-01 00:11:00</td>\n",
       "      <td>40.7690</td>\n",
       "      <td>-73.9549</td>\n",
       "      <td>B02512</td>\n",
       "      <td>2014-04-01</td>\n",
       "    </tr>\n",
       "    <tr>\n",
       "      <th>1</th>\n",
       "      <td>2014-04-01 00:17:00</td>\n",
       "      <td>40.7267</td>\n",
       "      <td>-74.0345</td>\n",
       "      <td>B02512</td>\n",
       "      <td>2014-04-01</td>\n",
       "    </tr>\n",
       "    <tr>\n",
       "      <th>2</th>\n",
       "      <td>2014-04-01 00:21:00</td>\n",
       "      <td>40.7316</td>\n",
       "      <td>-73.9873</td>\n",
       "      <td>B02512</td>\n",
       "      <td>2014-04-01</td>\n",
       "    </tr>\n",
       "    <tr>\n",
       "      <th>3</th>\n",
       "      <td>2014-04-01 00:28:00</td>\n",
       "      <td>40.7588</td>\n",
       "      <td>-73.9776</td>\n",
       "      <td>B02512</td>\n",
       "      <td>2014-04-01</td>\n",
       "    </tr>\n",
       "    <tr>\n",
       "      <th>4</th>\n",
       "      <td>2014-04-01 00:33:00</td>\n",
       "      <td>40.7594</td>\n",
       "      <td>-73.9722</td>\n",
       "      <td>B02512</td>\n",
       "      <td>2014-04-01</td>\n",
       "    </tr>\n",
       "  </tbody>\n",
       "</table>\n",
       "</div>"
      ],
      "text/plain": [
       "      pickup_datetime  pickup_latitude  pickup_longitude    base    YYYY_MM\n",
       "0 2014-04-01 00:11:00          40.7690          -73.9549  B02512 2014-04-01\n",
       "1 2014-04-01 00:17:00          40.7267          -74.0345  B02512 2014-04-01\n",
       "2 2014-04-01 00:21:00          40.7316          -73.9873  B02512 2014-04-01\n",
       "3 2014-04-01 00:28:00          40.7588          -73.9776  B02512 2014-04-01\n",
       "4 2014-04-01 00:33:00          40.7594          -73.9722  B02512 2014-04-01"
      ]
     },
     "execution_count": 24,
     "metadata": {},
     "output_type": "execute_result"
    }
   ],
   "source": [
    "uber_trips_2014_df['pickup_datetime'] = pd.to_datetime(uber_trips_2014_df['pickup_datetime'])\n",
    "uber_trips_2014_df['YYYY_MM'] = uber_trips_2014_df['pickup_datetime'].apply(lambda x: datetime.datetime.strptime(str(x.year) + '-' + str(x.month), \"%Y-%m\"))\n",
    "uber_trips_2014_df.head()"
   ]
  },
  {
   "cell_type": "code",
   "execution_count": 25,
   "metadata": {},
   "outputs": [
    {
     "data": {
      "text/html": [
       "<div>\n",
       "<style scoped>\n",
       "    .dataframe tbody tr th:only-of-type {\n",
       "        vertical-align: middle;\n",
       "    }\n",
       "\n",
       "    .dataframe tbody tr th {\n",
       "        vertical-align: top;\n",
       "    }\n",
       "\n",
       "    .dataframe thead th {\n",
       "        text-align: right;\n",
       "    }\n",
       "</style>\n",
       "<table border=\"1\" class=\"dataframe\">\n",
       "  <thead>\n",
       "    <tr style=\"text-align: right;\">\n",
       "      <th></th>\n",
       "      <th>pickup_datetime</th>\n",
       "      <th>pickup_location_id</th>\n",
       "      <th>dispatch_base</th>\n",
       "      <th>affiliate_base</th>\n",
       "      <th>YYYY_MM</th>\n",
       "    </tr>\n",
       "  </thead>\n",
       "  <tbody>\n",
       "    <tr>\n",
       "      <th>0</th>\n",
       "      <td>2015-05-17 09:47:00</td>\n",
       "      <td>141</td>\n",
       "      <td>B02617</td>\n",
       "      <td>B02617</td>\n",
       "      <td>2015-05-01</td>\n",
       "    </tr>\n",
       "    <tr>\n",
       "      <th>1</th>\n",
       "      <td>2015-05-17 09:47:00</td>\n",
       "      <td>65</td>\n",
       "      <td>B02617</td>\n",
       "      <td>B02617</td>\n",
       "      <td>2015-05-01</td>\n",
       "    </tr>\n",
       "    <tr>\n",
       "      <th>2</th>\n",
       "      <td>2015-05-17 09:47:00</td>\n",
       "      <td>100</td>\n",
       "      <td>B02617</td>\n",
       "      <td>B02617</td>\n",
       "      <td>2015-05-01</td>\n",
       "    </tr>\n",
       "    <tr>\n",
       "      <th>3</th>\n",
       "      <td>2015-05-17 09:47:00</td>\n",
       "      <td>80</td>\n",
       "      <td>B02617</td>\n",
       "      <td>B02774</td>\n",
       "      <td>2015-05-01</td>\n",
       "    </tr>\n",
       "    <tr>\n",
       "      <th>4</th>\n",
       "      <td>2015-05-17 09:47:00</td>\n",
       "      <td>90</td>\n",
       "      <td>B02617</td>\n",
       "      <td>B02617</td>\n",
       "      <td>2015-05-01</td>\n",
       "    </tr>\n",
       "  </tbody>\n",
       "</table>\n",
       "</div>"
      ],
      "text/plain": [
       "      pickup_datetime  pickup_location_id dispatch_base affiliate_base  \\\n",
       "0 2015-05-17 09:47:00                 141        B02617         B02617   \n",
       "1 2015-05-17 09:47:00                  65        B02617         B02617   \n",
       "2 2015-05-17 09:47:00                 100        B02617         B02617   \n",
       "3 2015-05-17 09:47:00                  80        B02617         B02774   \n",
       "4 2015-05-17 09:47:00                  90        B02617         B02617   \n",
       "\n",
       "     YYYY_MM  \n",
       "0 2015-05-01  \n",
       "1 2015-05-01  \n",
       "2 2015-05-01  \n",
       "3 2015-05-01  \n",
       "4 2015-05-01  "
      ]
     },
     "execution_count": 25,
     "metadata": {},
     "output_type": "execute_result"
    }
   ],
   "source": [
    "uber_trips_2015_df['pickup_datetime'] = pd.to_datetime(uber_trips_2015_df['pickup_datetime'])\n",
    "uber_trips_2015_df['YYYY_MM'] = uber_trips_2015_df['pickup_datetime'].apply(lambda x: datetime.datetime.strptime(str(x.year) + '-' + str(x.month), \"%Y-%m\"))\n",
    "uber_trips_2015_df.head()"
   ]
  },
  {
   "cell_type": "code",
   "execution_count": 26,
   "metadata": {},
   "outputs": [
    {
     "data": {
      "image/png": "[encoded data removed]",
      "text/plain": [
       "<Figure size 1080x216 with 1 Axes>"
      ]
     },
     "metadata": {
      "needs_background": "light"
     },
     "output_type": "display_data"
    }
   ],
   "source": [
    "fig, ax = plt.subplots(figsize=(15,3))\n",
    "sns.lineplot(data=uber_trips_2014_df.groupby('YYYY_MM')['YYYY_MM'].count(), ax=ax)\n",
    "plt.title('Uber Trips by Period')\n",
    "plt.xlabel('Year-Month')\n",
    "plt.ylabel('Trips');"
   ]
  },
  {
   "cell_type": "code",
   "execution_count": 27,
   "metadata": {},
   "outputs": [
    {
     "data": {
      "image/png": "[encoded data removed]",
      "text/plain": [
       "<Figure size 1080x216 with 1 Axes>"
      ]
     },
     "metadata": {
      "needs_background": "light"
     },
     "output_type": "display_data"
    }
   ],
   "source": [
    "fig, ax = plt.subplots(figsize=(15,3))\n",
    "sns.lineplot(data=uber_trips_2015_df.groupby('YYYY_MM')['YYYY_MM'].count(), ax=ax)\n",
    "plt.title('Uber Trips by Period')\n",
    "plt.xlabel('Year-Month')\n",
    "plt.ylabel('Trips');"
   ]
  },
  {
   "cell_type": "code",
   "execution_count": 28,
   "metadata": {},
   "outputs": [
    {
     "name": "stderr",
     "output_type": "stream",
     "text": [
      "D:\\Users\\german.ramirez2\\AppData\\Local\\conda\\conda\\envs\\week8\\lib\\site-packages\\ipykernel_launcher.py:3: FutureWarning: Sorting because non-concatenation axis is not aligned. A future version\n",
      "of pandas will change to not sort by default.\n",
      "\n",
      "To accept the future behavior, pass 'sort=False'.\n",
      "\n",
      "To retain the current behavior and silence the warning, pass 'sort=True'.\n",
      "\n",
      "  This is separate from the ipykernel package so we can avoid doing imports until\n"
     ]
    },
    {
     "data": {
      "text/html": [
       "<div>\n",
       "<style scoped>\n",
       "    .dataframe tbody tr th:only-of-type {\n",
       "        vertical-align: middle;\n",
       "    }\n",
       "\n",
       "    .dataframe tbody tr th {\n",
       "        vertical-align: top;\n",
       "    }\n",
       "\n",
       "    .dataframe thead th {\n",
       "        text-align: right;\n",
       "    }\n",
       "</style>\n",
       "<table border=\"1\" class=\"dataframe\">\n",
       "  <thead>\n",
       "    <tr style=\"text-align: right;\">\n",
       "      <th></th>\n",
       "      <th>YYYY_MM</th>\n",
       "      <th>affiliate_base</th>\n",
       "      <th>base</th>\n",
       "      <th>pickup_datetime</th>\n",
       "    </tr>\n",
       "  </thead>\n",
       "  <tbody>\n",
       "    <tr>\n",
       "      <th>0</th>\n",
       "      <td>2014-04-01</td>\n",
       "      <td>NaN</td>\n",
       "      <td>B02512</td>\n",
       "      <td>2014-04-01 00:11:00</td>\n",
       "    </tr>\n",
       "    <tr>\n",
       "      <th>1</th>\n",
       "      <td>2014-04-01</td>\n",
       "      <td>NaN</td>\n",
       "      <td>B02512</td>\n",
       "      <td>2014-04-01 00:17:00</td>\n",
       "    </tr>\n",
       "    <tr>\n",
       "      <th>2</th>\n",
       "      <td>2014-04-01</td>\n",
       "      <td>NaN</td>\n",
       "      <td>B02512</td>\n",
       "      <td>2014-04-01 00:21:00</td>\n",
       "    </tr>\n",
       "    <tr>\n",
       "      <th>3</th>\n",
       "      <td>2014-04-01</td>\n",
       "      <td>NaN</td>\n",
       "      <td>B02512</td>\n",
       "      <td>2014-04-01 00:28:00</td>\n",
       "    </tr>\n",
       "    <tr>\n",
       "      <th>4</th>\n",
       "      <td>2014-04-01</td>\n",
       "      <td>NaN</td>\n",
       "      <td>B02512</td>\n",
       "      <td>2014-04-01 00:33:00</td>\n",
       "    </tr>\n",
       "  </tbody>\n",
       "</table>\n",
       "</div>"
      ],
      "text/plain": [
       "     YYYY_MM affiliate_base    base     pickup_datetime\n",
       "0 2014-04-01            NaN  B02512 2014-04-01 00:11:00\n",
       "1 2014-04-01            NaN  B02512 2014-04-01 00:17:00\n",
       "2 2014-04-01            NaN  B02512 2014-04-01 00:21:00\n",
       "3 2014-04-01            NaN  B02512 2014-04-01 00:28:00\n",
       "4 2014-04-01            NaN  B02512 2014-04-01 00:33:00"
      ]
     },
     "execution_count": 28,
     "metadata": {},
     "output_type": "execute_result"
    }
   ],
   "source": [
    "uberTemp1 = uber_trips_2014_df[['pickup_datetime','base','YYYY_MM']]\n",
    "uberTemp2 = uber_trips_2015_df[['pickup_datetime','affiliate_base','YYYY_MM']]\n",
    "uber_trips_df= pd.concat([uberTemp1, uberTemp2])\n",
    "uber_trips_df.head()"
   ]
  },
  {
   "cell_type": "code",
   "execution_count": 29,
   "metadata": {},
   "outputs": [
    {
     "data": {
      "image/png": "[encoded data removed]",
      "text/plain": [
       "<Figure size 1080x216 with 1 Axes>"
      ]
     },
     "metadata": {
      "needs_background": "light"
     },
     "output_type": "display_data"
    }
   ],
   "source": [
    "fig, ax = plt.subplots(figsize=(15,3))\n",
    "sns.lineplot(data=uber_trips_df.groupby('YYYY_MM')['YYYY_MM'].count(), ax=ax)\n",
    "plt.title('Uber Trips by Period')\n",
    "plt.xlabel('Year-Month')\n",
    "plt.ylabel('Trips');"
   ]
  },
  {
   "cell_type": "code",
   "execution_count": 30,
   "metadata": {},
   "outputs": [
    {
     "data": {
      "text/html": [
       "<div>\n",
       "<style scoped>\n",
       "    .dataframe tbody tr th:only-of-type {\n",
       "        vertical-align: middle;\n",
       "    }\n",
       "\n",
       "    .dataframe tbody tr th {\n",
       "        vertical-align: top;\n",
       "    }\n",
       "\n",
       "    .dataframe thead th {\n",
       "        text-align: right;\n",
       "    }\n",
       "</style>\n",
       "<table border=\"1\" class=\"dataframe\">\n",
       "  <thead>\n",
       "    <tr style=\"text-align: right;\">\n",
       "      <th></th>\n",
       "      <th>pickup_datetime</th>\n",
       "      <th>dropoff_datetime</th>\n",
       "      <th>pickup_longitude</th>\n",
       "      <th>pickup_latitude</th>\n",
       "      <th>dropoff_longitude</th>\n",
       "      <th>dropoff_latitude</th>\n",
       "      <th>passenger_count</th>\n",
       "      <th>trip_distance</th>\n",
       "      <th>total_amount</th>\n",
       "      <th>YYYY_MM</th>\n",
       "    </tr>\n",
       "  </thead>\n",
       "  <tbody>\n",
       "    <tr>\n",
       "      <th>0</th>\n",
       "      <td>2014-04-03 18:28:10</td>\n",
       "      <td>2014-04-03 18:54:32</td>\n",
       "      <td>-74.006033</td>\n",
       "      <td>40.706284</td>\n",
       "      <td>-73.918837</td>\n",
       "      <td>40.744946</td>\n",
       "      <td>1</td>\n",
       "      <td>8.70</td>\n",
       "      <td>34.8</td>\n",
       "      <td>2014-04-01</td>\n",
       "    </tr>\n",
       "    <tr>\n",
       "      <th>1</th>\n",
       "      <td>2014-04-16 15:42:00</td>\n",
       "      <td>2014-04-16 16:07:00</td>\n",
       "      <td>-73.979558</td>\n",
       "      <td>40.749357</td>\n",
       "      <td>0.000000</td>\n",
       "      <td>0.000000</td>\n",
       "      <td>1</td>\n",
       "      <td>9.37</td>\n",
       "      <td>30.0</td>\n",
       "      <td>2014-04-01</td>\n",
       "    </tr>\n",
       "    <tr>\n",
       "      <th>2</th>\n",
       "      <td>2014-04-13 18:04:00</td>\n",
       "      <td>2014-04-13 18:07:00</td>\n",
       "      <td>-73.956453</td>\n",
       "      <td>40.775307</td>\n",
       "      <td>-73.954792</td>\n",
       "      <td>40.784992</td>\n",
       "      <td>1</td>\n",
       "      <td>0.89</td>\n",
       "      <td>6.5</td>\n",
       "      <td>2014-04-01</td>\n",
       "    </tr>\n",
       "    <tr>\n",
       "      <th>3</th>\n",
       "      <td>2014-05-21 19:33:00</td>\n",
       "      <td>2014-05-21 19:45:00</td>\n",
       "      <td>-73.987212</td>\n",
       "      <td>40.757850</td>\n",
       "      <td>-73.960198</td>\n",
       "      <td>40.775472</td>\n",
       "      <td>1</td>\n",
       "      <td>2.40</td>\n",
       "      <td>12.5</td>\n",
       "      <td>2014-05-01</td>\n",
       "    </tr>\n",
       "    <tr>\n",
       "      <th>4</th>\n",
       "      <td>2014-05-30 16:28:00</td>\n",
       "      <td>2014-05-30 16:51:00</td>\n",
       "      <td>-73.974292</td>\n",
       "      <td>40.755397</td>\n",
       "      <td>-74.011867</td>\n",
       "      <td>40.704222</td>\n",
       "      <td>3</td>\n",
       "      <td>5.58</td>\n",
       "      <td>24.5</td>\n",
       "      <td>2014-05-01</td>\n",
       "    </tr>\n",
       "  </tbody>\n",
       "</table>\n",
       "</div>"
      ],
      "text/plain": [
       "      pickup_datetime     dropoff_datetime  pickup_longitude  pickup_latitude  \\\n",
       "0 2014-04-03 18:28:10  2014-04-03 18:54:32        -74.006033        40.706284   \n",
       "1 2014-04-16 15:42:00  2014-04-16 16:07:00        -73.979558        40.749357   \n",
       "2 2014-04-13 18:04:00  2014-04-13 18:07:00        -73.956453        40.775307   \n",
       "3 2014-05-21 19:33:00  2014-05-21 19:45:00        -73.987212        40.757850   \n",
       "4 2014-05-30 16:28:00  2014-05-30 16:51:00        -73.974292        40.755397   \n",
       "\n",
       "   dropoff_longitude  dropoff_latitude  passenger_count  trip_distance  \\\n",
       "0         -73.918837         40.744946                1           8.70   \n",
       "1           0.000000          0.000000                1           9.37   \n",
       "2         -73.954792         40.784992                1           0.89   \n",
       "3         -73.960198         40.775472                1           2.40   \n",
       "4         -74.011867         40.704222                3           5.58   \n",
       "\n",
       "   total_amount    YYYY_MM  \n",
       "0          34.8 2014-04-01  \n",
       "1          30.0 2014-04-01  \n",
       "2           6.5 2014-04-01  \n",
       "3          12.5 2014-05-01  \n",
       "4          24.5 2014-05-01  "
      ]
     },
     "execution_count": 30,
     "metadata": {},
     "output_type": "execute_result"
    }
   ],
   "source": [
    "yellow_trips_df.head()"
   ]
  }
 ],
 "metadata": {
  "kernelspec": {
   "display_name": "Python 3",
   "language": "python",
   "name": "python3"
  },
  "language_info": {
   "codemirror_mode": {
    "name": "ipython",
    "version": 3
   },
   "file_extension": ".py",
   "mimetype": "text/x-python",
   "name": "python",
   "nbconvert_exporter": "python",
   "pygments_lexer": "ipython3",
   "version": "3.7.1"
  }
 },
 "nbformat": 4,
 "nbformat_minor": 2
}
